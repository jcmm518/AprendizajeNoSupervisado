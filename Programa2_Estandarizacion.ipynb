{
  "nbformat": 4,
  "nbformat_minor": 0,
  "metadata": {
    "kernelspec": {
      "display_name": "Python 3",
      "language": "python",
      "name": "python3"
    },
    "language_info": {
      "codemirror_mode": {
        "name": "ipython",
        "version": 3
      },
      "file_extension": ".py",
      "mimetype": "text/x-python",
      "name": "python",
      "nbconvert_exporter": "python",
      "pygments_lexer": "ipython3",
      "version": "3.6.6"
    },
    "colab": {
      "name": "Programa2.Estandarizacion.ipynb",
      "provenance": [],
      "include_colab_link": true
    }
  },
  "cells": [
    {
      "cell_type": "markdown",
      "metadata": {
        "id": "view-in-github",
        "colab_type": "text"
      },
      "source": [
        "<a href=\"https://colab.research.google.com/github/jcmm518/AprendizajeNoSupervisado/blob/main/Programa2_Estandarizacion.ipynb\" target=\"_parent\"><img src=\"https://colab.research.google.com/assets/colab-badge.svg\" alt=\"Open In Colab\"/></a>"
      ]
    },
    {
      "cell_type": "code",
      "metadata": {
        "id": "FhLDgJpq-wXP"
      },
      "source": [
        "from sklearn import preprocessing\n",
        "import numpy as np"
      ],
      "execution_count": null,
      "outputs": []
    },
    {
      "cell_type": "code",
      "metadata": {
        "id": "Hm0jVHlE-wXV"
      },
      "source": [
        "# Carga de datos.\n",
        "X_train = np.array([[ 1., -1.,  2.],\n",
        "                    [ 2.,  0.,  0.],\n",
        "                    [ 0.,  1., -1.]])"
      ],
      "execution_count": null,
      "outputs": []
    },
    {
      "cell_type": "code",
      "metadata": {
        "id": "UdDVig8v-wXW"
      },
      "source": [
        "# Limpieza de datos: estandarización.\n",
        "standardizer = preprocessing.StandardScaler()\n",
        "X_train_std = standardizer.fit_transform(X_train)"
      ],
      "execution_count": null,
      "outputs": []
    },
    {
      "cell_type": "code",
      "metadata": {
        "id": "r8XRvC5--wXW",
        "colab": {
          "base_uri": "https://localhost:8080/"
        },
        "outputId": "49bcd79f-66e0-49f9-9fac-1e02e093490b"
      },
      "source": [
        "# Salida de resultados.\n",
        "print(X_train_std)"
      ],
      "execution_count": null,
      "outputs": [
        {
          "output_type": "stream",
          "text": [
            "[[ 0.         -1.22474487  1.33630621]\n",
            " [ 1.22474487  0.         -0.26726124]\n",
            " [-1.22474487  1.22474487 -1.06904497]]\n"
          ],
          "name": "stdout"
        }
      ]
    },
    {
      "cell_type": "code",
      "metadata": {
        "id": "RJavQDqs-wXX"
      },
      "source": [
        ""
      ],
      "execution_count": null,
      "outputs": []
    }
  ]
}