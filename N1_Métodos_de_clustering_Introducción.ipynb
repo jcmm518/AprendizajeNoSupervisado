{
  "nbformat": 4,
  "nbformat_minor": 0,
  "metadata": {
    "colab": {
      "name": "N1 - Métodos de clustering - Introducción.ipynb",
      "provenance": [],
      "collapsed_sections": [],
      "include_colab_link": true
    },
    "kernelspec": {
      "name": "python3",
      "display_name": "Python 3"
    }
  },
  "cells": [
    {
      "cell_type": "markdown",
      "metadata": {
        "id": "view-in-github",
        "colab_type": "text"
      },
      "source": [
        "<a href=\"https://colab.research.google.com/github/jcmm518/AprendizajeNoSupervisado/blob/main/N1_M%C3%A9todos_de_clustering_Introducci%C3%B3n.ipynb\" target=\"_parent\"><img src=\"https://colab.research.google.com/assets/colab-badge.svg\" alt=\"Open In Colab\"/></a>"
      ]
    },
    {
      "cell_type": "markdown",
      "metadata": {
        "id": "NnyNgqjZ2J6z"
      },
      "source": [
        "<center><h1>N1: Métodos de clustering</h1></center>\n",
        "\n",
        "# Introducción\n",
        "\n",
        "¡Hola a tod@s y bienvenid@s al Notebook práctico 1 de la asignatura!\n",
        "\n",
        "En este práctica vamos a trabajar con las diferentes técnicas de clustering para afianzar los contenidos vistos durante las clases prácticas. \n",
        "\n",
        "La práctica se divide en 5 sub-notebooks:\n",
        "\n",
        "* N1.1: Métodos de clustering basados en **particiones** *(VC02)*\n",
        "* N1.2: Métodos de clustering **jerárquico** *(VC03)*\n",
        "* N1.3: Métodos de clustering **espectral** *(VC04)*\n",
        "* N1.4: Métodos de clustering basados en **densidad** *(VC05)*\n",
        "* N1.5: Métodos de clustering basados en **modelos probabilísticos** *(VC06)*\n",
        "\n",
        "No os asustéis, esta práctica no pretende ser nada complicado ni rebuscado, simplemente una aplicación práctica de lo que ya habéis visto en clase. \n",
        "\n",
        "Los notebooks de los distintos bloques irán apareciendo en el Aula virtual, dentro de `Recursos y materiales/04. Notebooks de prácticas`.\n",
        "\n",
        "Mi recomendación personal es que hagáis cada notebook en los días siguientes a la clase correspondiente y que no los dejéis para el final. Entre parentesis tenéis la fecha en la que veréis la clase correspondiente al notebook de la práctica que podéis hacer."
      ]
    },
    {
      "cell_type": "markdown",
      "metadata": {
        "id": "DwD1DpgrHyQR"
      },
      "source": [
        "# N1.1: Métodos de clustering basados en particiones\n",
        "*Este notebook estará disponible en `Recursos y materiales/04. Notebooks de prácticas` tras haber visto la VC02*"
      ]
    },
    {
      "cell_type": "markdown",
      "metadata": {
        "id": "JXaSISNJIQg7"
      },
      "source": [
        "# N1.2: Métodos de clustering jerárquico\n",
        "*Este notebook estará disponible en `Recursos y materiales/04. Notebooks de prácticas` tras haber visto la VC03*\n"
      ]
    },
    {
      "cell_type": "markdown",
      "metadata": {
        "id": "j9VgaSeuIX1r"
      },
      "source": [
        "# N1.3: Métodos de clustering espectral\n",
        "*Este notebook estará disponible en `Recursos y materiales/04. Notebooks de prácticas` tras haber visto la VC04*"
      ]
    },
    {
      "cell_type": "markdown",
      "metadata": {
        "id": "kfBfZ5WYIeZJ"
      },
      "source": [
        "# N1.4: Métodos de clustering basados en densidad\n",
        "*Este notebook estará disponible en `Recursos y materiales/04. Notebooks de prácticas` tras haber visto la VC05*\n"
      ]
    },
    {
      "cell_type": "markdown",
      "metadata": {
        "id": "9sqrc1cjIjNh"
      },
      "source": [
        "# N1.5: Métodos de clustering basados en modelos probabilísticos\n",
        "*Este notebook estará disponible en `Recursos y materiales/04. Notebooks de prácticas` tras haber visto la VC06*\n"
      ]
    }
  ]
}