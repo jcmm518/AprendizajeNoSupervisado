{
  "nbformat": 4,
  "nbformat_minor": 0,
  "metadata": {
    "colab": {
      "name": "VC03 - Métodos de clustering jerárquico solucionado Jcm.ipynb",
      "provenance": [],
      "collapsed_sections": [],
      "include_colab_link": true
    },
    "kernelspec": {
      "name": "python3",
      "display_name": "Python 3"
    }
  },
  "cells": [
    {
      "cell_type": "markdown",
      "metadata": {
        "id": "view-in-github",
        "colab_type": "text"
      },
      "source": [
        "<a href=\"https://colab.research.google.com/github/jcmm518/AprendizajeNoSupervisado/blob/main/VC03_M%C3%A9todos_de_clustering_jer%C3%A1rquico_solucionado_Jcm.ipynb\" target=\"_parent\"><img src=\"https://colab.research.google.com/assets/colab-badge.svg\" alt=\"Open In Colab\"/></a>"
      ]
    },
    {
      "cell_type": "markdown",
      "metadata": {
        "id": "t1iE9XTGLU2V"
      },
      "source": [
        "# VC03 - Métodos de clustering jerárquico\n"
      ]
    },
    {
      "cell_type": "markdown",
      "metadata": {
        "id": "bpRUPzfm-ZM8"
      },
      "source": [
        "En esta práctica vamos a ver cómo funcionan los algoritmos jerárquicos vistos en clase: el aglomerativo y el divisivo."
      ]
    },
    {
      "cell_type": "markdown",
      "metadata": {
        "id": "e-2-Apoz-4s_"
      },
      "source": [
        "### Clustering jerárquico aglomerativo\n",
        "\n",
        "En esta práctica estudiaremos el funcionamiento y la utilización del clústering jerárquico aglomerativo.\n",
        "\n",
        "Para empezar, cargamos las librerías que vamos a necesitar:"
      ]
    },
    {
      "cell_type": "code",
      "metadata": {
        "id": "Fz4xOnkeECZV"
      },
      "source": [
        "from matplotlib import pyplot as plt\n",
        "from scipy.cluster.hierarchy import dendrogram, linkage\n",
        "import numpy as np\n",
        "plt.rcParams['figure.figsize'] = [8, 8]\n",
        "np.set_printoptions(precision=5, suppress=True)  # suppress scientific float notation"
      ],
      "execution_count": 1,
      "outputs": []
    },
    {
      "cell_type": "markdown",
      "metadata": {
        "id": "fV79MxIuERmE"
      },
      "source": [
        "### Ejemplo 1\n",
        "\n",
        "Generamos nuestro dataset de juguete:"
      ]
    },
    {
      "cell_type": "code",
      "metadata": {
        "id": "rvKvIIhsET-t",
        "colab": {
          "base_uri": "https://localhost:8080/",
          "height": 283
        },
        "outputId": "60a2984b-2e1b-4b56-d838-54ecfc0cb50b"
      },
      "source": [
        "# generate two clusters: a with 100 points, b with 50:\n",
        "np.random.seed(4711)  # for repeatability of this tutorial\n",
        "a = np.random.multivariate_normal([10, 0], [[3, 1], [1, 4]], size=[100,])\n",
        "b = np.random.multivariate_normal([0, 20], [[3, 1], [1, 4]], size=[50,])\n",
        "X = np.concatenate((a, b),)\n",
        "print(X.shape)  # 150 samples with 2 dimensions\n",
        "plt.scatter(X[:,0], X[:,1])\n",
        "plt.show()"
      ],
      "execution_count": 2,
      "outputs": [
        {
          "output_type": "stream",
          "text": [
            "(150, 2)\n"
          ],
          "name": "stdout"
        },
        {
          "output_type": "display_data",
          "data": {
            "image/png": "[encoded data removed]",
            "text/plain": [
              "<Figure size 432x288 with 1 Axes>"
            ]
          },
          "metadata": {
            "tags": [],
            "needs_background": "light"
          }
        }
      ]
    },
    {
      "cell_type": "markdown",
      "metadata": {
        "id": "wrT7c9MzEb_f"
      },
      "source": [
        "Ya tenemos nuestro dataset, que como podéis comprobar es bien sencillo, para poder comprender bien el funcionamiento del clustering jerárquico.\n",
        "\n",
        "Vamos a realizar el clustering:"
      ]
    },
    {
      "cell_type": "code",
      "metadata": {
        "id": "SszDl0OhEUit",
        "colab": {
          "base_uri": "https://localhost:8080/"
        },
        "outputId": "c55659a5-65c1-4e22-957b-cee3089f428c"
      },
      "source": [
        "Z = linkage(X, method='single', metric='euclidean')\r\n",
        "print(Z)"
      ],
      "execution_count": 6,
      "outputs": [
        {
          "output_type": "stream",
          "text": [
            "[[ 52.       53.        0.04151   2.     ]\n",
            " [ 14.       79.        0.05914   2.     ]\n",
            " [ 33.       68.        0.07107   2.     ]\n",
            " [ 17.       73.        0.07137   2.     ]\n",
            " [  1.        8.        0.07543   2.     ]\n",
            " [ 85.       95.        0.10928   2.     ]\n",
            " [108.      131.        0.11007   2.     ]\n",
            " [  9.       66.        0.11302   2.     ]\n",
            " [ 15.       69.        0.11429   2.     ]\n",
            " [ 63.       98.        0.1212    2.     ]\n",
            " [107.      115.        0.12167   2.     ]\n",
            " [ 65.       74.        0.1249    2.     ]\n",
            " [ 41.      158.        0.13314   3.     ]\n",
            " [ 58.       61.        0.14028   2.     ]\n",
            " [ 62.      152.        0.14862   3.     ]\n",
            " [154.      162.        0.17334   5.     ]\n",
            " [ 22.      150.        0.18425   3.     ]\n",
            " [ 10.       83.        0.18635   2.     ]\n",
            " [114.      139.        0.20419   2.     ]\n",
            " [ 39.       88.        0.20628   2.     ]\n",
            " [ 70.       96.        0.21931   2.     ]\n",
            " [ 46.       50.        0.22049   2.     ]\n",
            " [109.      113.        0.22499   2.     ]\n",
            " [ 31.       80.        0.23286   2.     ]\n",
            " [ 28.       35.        0.24282   2.     ]\n",
            " [ 18.       34.        0.24839   2.     ]\n",
            " [ 82.      164.        0.25064   4.     ]\n",
            " [ 71.      171.        0.25433   3.     ]\n",
            " [105.      137.        0.25928   2.     ]\n",
            " [ 26.      169.        0.26114   3.     ]\n",
            " [ 21.      177.        0.262     4.     ]\n",
            " [166.      180.        0.26214   7.     ]\n",
            " [153.      175.        0.26541   4.     ]\n",
            " [  3.       32.        0.26651   2.     ]\n",
            " [123.      145.        0.27191   2.     ]\n",
            " [  0.      170.        0.27196   3.     ]\n",
            " [ 11.       44.        0.2914    2.     ]\n",
            " [100.      160.        0.29649   3.     ]\n",
            " [ 76.       99.        0.29709   2.     ]\n",
            " [ 47.       59.        0.29906   2.     ]\n",
            " [151.      182.        0.30639   6.     ]\n",
            " [174.      190.        0.30852   8.     ]\n",
            " [ 55.      173.        0.30867   3.     ]\n",
            " [143.      187.        0.32098   4.     ]\n",
            " [155.      189.        0.32149   4.     ]\n",
            " [ 90.      194.        0.32262   5.     ]\n",
            " [144.      156.        0.33309   3.     ]\n",
            " [  5.       91.        0.3392    2.     ]\n",
            " [ 42.      183.        0.33922   3.     ]\n",
            " [110.      184.        0.33942   3.     ]\n",
            " [124.      193.        0.34521   5.     ]\n",
            " [ 43.      192.        0.34593   4.     ]\n",
            " [ 51.       64.        0.34655   2.     ]\n",
            " [ 45.      202.        0.35016   3.     ]\n",
            " [ 86.      195.        0.35431   6.     ]\n",
            " [ 54.       97.        0.35581   2.     ]\n",
            " [ 29.      201.        0.36011   5.     ]\n",
            " [159.      176.        0.36391   6.     ]\n",
            " [ 19.      198.        0.36526   4.     ]\n",
            " [165.      185.        0.37305   8.     ]\n",
            " [  2.       93.        0.37556   2.     ]\n",
            " [118.      196.        0.37919   4.     ]\n",
            " [130.      178.        0.39322   3.     ]\n",
            " [206.      207.        0.39461  11.     ]\n",
            " [ 13.      204.        0.3983    7.     ]\n",
            " [ 12.       78.        0.40147   2.     ]\n",
            " [133.      211.        0.4051    5.     ]\n",
            " [ 56.      209.        0.40654   9.     ]\n",
            " [ 67.      179.        0.4193    4.     ]\n",
            " [157.      210.        0.42262   4.     ]\n",
            " [186.      215.        0.42764   4.     ]\n",
            " [149.      212.        0.44579   4.     ]\n",
            " [167.      214.        0.44744   9.     ]\n",
            " [ 89.      213.        0.46115  12.     ]\n",
            " [102.      147.        0.4713    2.     ]\n",
            " [101.      134.        0.47825   2.     ]\n",
            " [148.      221.        0.48606   5.     ]\n",
            " [  6.       84.        0.49974   2.     ]\n",
            " [106.      226.        0.50025   6.     ]\n",
            " [ 92.      203.        0.52446   4.     ]\n",
            " [ 81.      222.        0.53083  10.     ]\n",
            " [217.      220.        0.56712  13.     ]\n",
            " [ 87.      223.        0.56844  13.     ]\n",
            " [205.      229.        0.57077   6.     ]\n",
            " [ 72.      181.        0.58045   8.     ]\n",
            " [ 49.       75.        0.5812    2.     ]\n",
            " [218.      227.        0.58745   6.     ]\n",
            " [142.      228.        0.59033   7.     ]\n",
            " [116.      136.        0.59151   2.     ]\n",
            " [112.      237.        0.59353   8.     ]\n",
            " [121.      216.        0.59421   6.     ]\n",
            " [200.      225.        0.6019    7.     ]\n",
            " [ 30.      236.        0.60276   7.     ]\n",
            " [ 37.      219.        0.60443   5.     ]\n",
            " [233.      242.        0.60776  13.     ]\n",
            " [231.      244.        0.61134  26.     ]\n",
            " [119.      172.        0.61568   3.     ]\n",
            " [234.      245.        0.61862  34.     ]\n",
            " [199.      241.        0.61895  10.     ]\n",
            " [208.      247.        0.62081  38.     ]\n",
            " [ 20.      235.        0.6224    3.     ]\n",
            " [232.      249.        0.64279  51.     ]\n",
            " [146.      248.        0.64712  11.     ]\n",
            " [104.      240.        0.65414   7.     ]\n",
            " [224.      239.        0.65833  10.     ]\n",
            " [111.      126.        0.65935   2.     ]\n",
            " [135.      252.        0.66385  12.     ]\n",
            " [ 38.      251.        0.67261  52.     ]\n",
            " [253.      254.        0.67733  17.     ]\n",
            " [ 24.      163.        0.67984   3.     ]\n",
            " [191.      257.        0.69404  60.     ]\n",
            " [ 94.      260.        0.72996  61.     ]\n",
            " [ 23.      261.        0.73426  62.     ]\n",
            " [ 48.      262.        0.74659  63.     ]\n",
            " [ 16.       77.        0.75378   2.     ]\n",
            " [250.      263.        0.78405  66.     ]\n",
            " [132.      258.        0.79273  18.     ]\n",
            " [238.      256.        0.79298  14.     ]\n",
            " [259.      265.        0.79485  69.     ]\n",
            " [103.      122.        0.8106    2.     ]\n",
            " [161.      268.        0.81107  71.     ]\n",
            " [188.      230.        0.81387  12.     ]\n",
            " [264.      270.        0.82337  73.     ]\n",
            " [266.      267.        0.84064  32.     ]\n",
            " [271.      272.        0.84927  85.     ]\n",
            " [246.      273.        0.85246  35.     ]\n",
            " [168.      275.        0.85792  37.     ]\n",
            " [128.      276.        0.87475  38.     ]\n",
            " [ 25.      274.        0.88723  86.     ]\n",
            " [ 36.      278.        0.89883  87.     ]\n",
            " [243.      279.        0.93503  92.     ]\n",
            " [140.      269.        0.9619    3.     ]\n",
            " [138.      277.        0.99796  39.     ]\n",
            " [ 57.      280.        1.01374  93.     ]\n",
            " [120.      282.        1.03586  40.     ]\n",
            " [117.      284.        1.03671  41.     ]\n",
            " [  7.      283.        1.08173  94.     ]\n",
            " [197.      286.        1.11165  96.     ]\n",
            " [255.      285.        1.2539   43.     ]\n",
            " [ 27.      287.        1.26592  97.     ]\n",
            " [125.      281.        1.3424    4.     ]\n",
            " [288.      290.        1.46911  47.     ]\n",
            " [129.      291.        1.5056   48.     ]\n",
            " [141.      292.        1.6758   49.     ]\n",
            " [ 60.      289.        1.75073  98.     ]\n",
            " [127.      293.        2.01561  50.     ]\n",
            " [  4.      294.        2.0993   99.     ]\n",
            " [ 40.      296.        3.78363 100.     ]\n",
            " [295.      297.       15.44509 150.     ]]\n"
          ],
          "name": "stdout"
        }
      ]
    },
    {
      "cell_type": "markdown",
      "metadata": {
        "id": "F-7_xtjuE1C9"
      },
      "source": [
        "Ya está. Fácil, ¿no os parece?\n",
        "\n",
        "Fijaos que `scipy` nos permite elegir qué método queremos elegir entre:\n",
        "\n",
        "-   `single`: disimilitud mínima\n",
        "-   `complete`: disimilitud máxima\n",
        "-   `average`: disimilitud media\n",
        "-   ... y más\n",
        "\n",
        "Y también nos permite elegir la medida de disimilitud que queremos utilizar para calcular las distancias entre clusters: `euclidean` (por defecto), `cityblock` (Manhattan), `hamming`, `cosine`, etc.\n",
        "\n",
        "Recordad que se debe escoger la medida de disimilitud teniendo en cuenta el tipo de datos que tenemos. Por ejemplo, si tuviesemos vectores de características binarios, usaríamos la distancia `hamming`.\n",
        "\n",
        "Vamos a medir la bondad de este clustering. Para ello, vamos a hacer uso del `Cophenetic Correlation Coefficient` (https://en.wikipedia.org/wiki/Cophenetic_correlation), disponible en la función `cophenet()` de `scipy.cluster.hierarchy`.\n",
        "\n",
        "Esta función compara (correla) las distancias reales entre todas las muestras de nuestro dataset con aquellas que implica el clustering obtenido. Cuanto más cerca este el valor de 1, mejor preserva el clustering las distancias originales, por lo que mejor es el clusering."
      ]
    },
    {
      "cell_type": "code",
      "metadata": {
        "id": "m2kMMf4bEz5R",
        "colab": {
          "base_uri": "https://localhost:8080/"
        },
        "outputId": "56c241b4-ce63-4abc-abed-d71d36a09ebe"
      },
      "source": [
        "from scipy.cluster.hierarchy import cophenet\n",
        "from scipy.spatial.distance import pdist\n",
        "\n",
        "# pdist calcula las distancias entre elementos de nuestro dataset usando la \n",
        "# métrica indicada (euclideana por defecto)\n",
        "c, coph_dists = cophenet(Z, pdist(X))\n",
        "print(c)"
      ],
      "execution_count": 7,
      "outputs": [
        {
          "output_type": "stream",
          "text": [
            "0.9801910428187561\n"
          ],
          "name": "stdout"
        }
      ]
    },
    {
      "cell_type": "markdown",
      "metadata": {
        "id": "5XQG1NjoG1b4"
      },
      "source": [
        "No importa qué método o métrica elijamos, la función `linkage` utilizará ese método y métrica para calcular las distancias entre los clusters (empezando por `k=n_instancias` clusters que tendrá al principio, es decir, cada muestra del dataset es un cluster) y en cada iteración mezclará los dos clusters con la distancia más pequeña de acuerdo al método y distancia elegidos.\n",
        "\n",
        "La salida de esta función (`Z`) es un vector de longitud `k-1` que nos dará información de las operaciones realizadas en cada paso. Es decir, las `k-1` uniones que han tenido lugar durante el clustering.\n",
        "\n",
        "`Z[i]` nos dirá qué clusters fueron unidos en la iteración `i`:"
      ]
    },
    {
      "cell_type": "code",
      "metadata": {
        "id": "xq-oR6D3EupX",
        "colab": {
          "base_uri": "https://localhost:8080/"
        },
        "outputId": "669c3c9c-621d-437d-a00e-e91a3c7c6977"
      },
      "source": [
        "Z[0]"
      ],
      "execution_count": 8,
      "outputs": [
        {
          "output_type": "execute_result",
          "data": {
            "text/plain": [
              "array([52.     , 53.     ,  0.04151,  2.     ])"
            ]
          },
          "metadata": {
            "tags": []
          },
          "execution_count": 8
        }
      ]
    },
    {
      "cell_type": "markdown",
      "metadata": {
        "id": "Z9kOm-uvHzXg"
      },
      "source": [
        "La salida es la siguiente:\n",
        "\n",
        "`[idx1, idx2, distancia, número de muestras]`\n",
        "\n",
        "En este caso podéis ver cómo el algoritmo ha decidido unir los clusters 52 y 53, que tenían una distancia de 0.04151, y esta operación dió como resultado un cluster con 2 instancias. `idx1` e `idx2` se corresponden con los índices de nuestras muestras. Recordad que nuestro dataset tiene 150 muestras.\n",
        "\n",
        "Vamos a ver las 20 primeras operaciones:"
      ]
    },
    {
      "cell_type": "code",
      "metadata": {
        "id": "GZ7-9QxdHxRF",
        "colab": {
          "base_uri": "https://localhost:8080/"
        },
        "outputId": "e764aeb0-94e2-410a-c0a9-eef0c50911ad"
      },
      "source": [
        "Z[:20]"
      ],
      "execution_count": 9,
      "outputs": [
        {
          "output_type": "execute_result",
          "data": {
            "text/plain": [
              "array([[ 52.     ,  53.     ,   0.04151,   2.     ],\n",
              "       [ 14.     ,  79.     ,   0.05914,   2.     ],\n",
              "       [ 33.     ,  68.     ,   0.07107,   2.     ],\n",
              "       [ 17.     ,  73.     ,   0.07137,   2.     ],\n",
              "       [  1.     ,   8.     ,   0.07543,   2.     ],\n",
              "       [ 85.     ,  95.     ,   0.10928,   2.     ],\n",
              "       [108.     , 131.     ,   0.11007,   2.     ],\n",
              "       [  9.     ,  66.     ,   0.11302,   2.     ],\n",
              "       [ 15.     ,  69.     ,   0.11429,   2.     ],\n",
              "       [ 63.     ,  98.     ,   0.1212 ,   2.     ],\n",
              "       [107.     , 115.     ,   0.12167,   2.     ],\n",
              "       [ 65.     ,  74.     ,   0.1249 ,   2.     ],\n",
              "       [ 41.     , 158.     ,   0.13314,   3.     ],\n",
              "       [ 58.     ,  61.     ,   0.14028,   2.     ],\n",
              "       [ 62.     , 152.     ,   0.14862,   3.     ],\n",
              "       [154.     , 162.     ,   0.17334,   5.     ],\n",
              "       [ 22.     , 150.     ,   0.18425,   3.     ],\n",
              "       [ 10.     ,  83.     ,   0.18635,   2.     ],\n",
              "       [114.     , 139.     ,   0.20419,   2.     ],\n",
              "       [ 39.     ,  88.     ,   0.20628,   2.     ]])"
            ]
          },
          "metadata": {
            "tags": []
          },
          "execution_count": 9
        }
      ]
    },
    {
      "cell_type": "markdown",
      "metadata": {
        "id": "zeVyAfd0Irv_"
      },
      "source": [
        "Fijaos en lós índices, ¿véis algo raro? Fijaos también en la columna de número de muestras. ¿Qué esta pasando?\n",
        "\n",
        "Lo que esta pasando es que cada vez que ocurre una unión, se crea un nuevo cluster con un nuevo índice (por eso hay más de 150, que es el número de muestras de nuestro dataset == el número de clusters iniciales).\n",
        "\n",
        "De hecho, todos los clusters cuyo índice es mayor que 149 (`idx >= len(X)`), realmente se refieren al cluster formado en la unión `Z[idx - len(X)`.\n",
        "\n",
        "Así, el `idx` 149 se corresponde con `X[149]`, pero el `idx=150` se corresponde con el cluster formado en el paso `Z[0]`, y así sucesivamente.\n",
        "\n",
        "Si os fijáis en la iteración 13, se mezclan el cluster 62 con el 152. ¿Y qué es lo que hay en el cluster 152? Pues `Z[152-150]=Z[2]`, por lo tanto, lo que se unió en la iteración 3 (`Z` está indexado en 0). Es decir, el cluster 33 y 68.\n",
        "\n",
        "Vamos a ver las coordenadas para ver si tiene sentido:"
      ]
    },
    {
      "cell_type": "code",
      "metadata": {
        "id": "CiVJyE0mIO0t",
        "colab": {
          "base_uri": "https://localhost:8080/",
          "height": 535
        },
        "outputId": "3cf90040-6455-48a4-c425-00b46f931551"
      },
      "source": [
        "idxs = [33, 68, 62]\n",
        "plt.figure(figsize=(10, 8))\n",
        "plt.scatter(X[:,0], X[:,1])  # plot all points\n",
        "plt.scatter(X[idxs,0], X[idxs,1], c='r')  # plot interesting points in red again\n",
        "plt.show()\n",
        "\n",
        "print(X[idxs])"
      ],
      "execution_count": 10,
      "outputs": [
        {
          "output_type": "display_data",
          "data": {
            "image/png": "[encoded data removed]",
            "text/plain": [
              "<Figure size 720x576 with 1 Axes>"
            ]
          },
          "metadata": {
            "tags": [],
            "needs_background": "light"
          }
        },
        {
          "output_type": "stream",
          "text": [
            "[[ 9.83913 -0.4873 ]\n",
            " [ 9.89349 -0.44152]\n",
            " [ 9.97793 -0.56383]]\n"
          ],
          "name": "stdout"
        }
      ]
    },
    {
      "cell_type": "markdown",
      "metadata": {
        "id": "JzjW4g3DMcAg"
      },
      "source": [
        "Fijaos que los puntos realmente están bastante cerca los unos de los otros, así que tiene sentido.\n",
        "\n",
        "Vamos ahora a ver el dendograma:"
      ]
    },
    {
      "cell_type": "code",
      "metadata": {
        "id": "kjg13qmxL0fm",
        "colab": {
          "base_uri": "https://localhost:8080/",
          "height": 507
        },
        "outputId": "4dd2a567-d692-4246-f2bb-23216d3efc53"
      },
      "source": [
        "# calculate full dendrogram\n",
        "plt.figure(figsize=(25, 10))\n",
        "plt.title('Dendrograma')\n",
        "plt.xlabel('índice de la muestra')\n",
        "plt.ylabel('distancia')\n",
        "dendrogram(\n",
        "    Z,\n",
        "    leaf_rotation=90.,  # rotates the x axis labels\n",
        "    leaf_font_size=8.,  # font size for the x axis labels\n",
        ")\n",
        "plt.show()"
      ],
      "execution_count": 11,
      "outputs": [
        {
          "output_type": "display_data",
          "data": {
            "image/png": "[encoded data removed]",
            "text/plain": [
              "<Figure size 1800x720 with 1 Axes>"
            ]
          },
          "metadata": {
            "tags": [],
            "needs_background": "light"
          }
        }
      ]
    },
    {
      "cell_type": "markdown",
      "metadata": {
        "id": "d6gRgW1jM-hZ"
      },
      "source": [
        "Resumiendo el dendograma:\n",
        "\n",
        " -   Las lineas horizontales son uniones de clusters\n",
        " -   Las líneas verticales nos indican que clústers son parte de cada unión\n",
        " -   Las alturas de las líneas verticales nos indican la distancia que se \"cubrió\" al hacer la unión\n",
        "\n",
        " Además, el dendograma nos permite hacer cosas bastante útiles:"
      ]
    },
    {
      "cell_type": "code",
      "metadata": {
        "id": "v-TwgafXMr3C",
        "colab": {
          "base_uri": "https://localhost:8080/",
          "height": 310
        },
        "outputId": "f5e6c053-4553-435f-9b1a-cb8c4db9298c"
      },
      "source": [
        "# quedarnos con las últimas p uniones\n",
        "plt.title('Hierarchical Clustering Dendrograma (truncado)')\n",
        "plt.xlabel('índice de la muestra')\n",
        "plt.ylabel('distancia')\n",
        "dendrogram(\n",
        "    Z,\n",
        "    truncate_mode='lastp',  # mostrar solo las últimas p uniones\n",
        "    p=12,  # definimos p\n",
        "    leaf_rotation=90.,\n",
        "    leaf_font_size=12.,\n",
        "    show_contracted=True,  # to get a distribution impression in truncated branches\n",
        ")\n",
        "plt.show()"
      ],
      "execution_count": 12,
      "outputs": [
        {
          "output_type": "display_data",
          "data": {
            "image/png": "[encoded data removed]",
            "text/plain": [
              "<Figure size 432x288 with 1 Axes>"
            ]
          },
          "metadata": {
            "tags": [],
            "needs_background": "light"
          }
        }
      ]
    },
    {
      "cell_type": "code",
      "metadata": {
        "id": "2dVpNa7iO7EC"
      },
      "source": [
        "def fancy_dendrogram(*args, **kwargs):\n",
        "    max_d = kwargs.pop('max_d', None)\n",
        "    if max_d and 'color_threshold' not in kwargs:\n",
        "        kwargs['color_threshold'] = max_d\n",
        "    annotate_above = kwargs.pop('annotate_above', 0)\n",
        "\n",
        "    ddata = dendrogram(*args, **kwargs)\n",
        "\n",
        "    if not kwargs.get('no_plot', False):\n",
        "        plt.title('Hierarchical Clustering Dendrogram (truncated)')\n",
        "        plt.xlabel('sample index or (cluster size)')\n",
        "        plt.ylabel('distance')\n",
        "        for i, d, c in zip(ddata['icoord'], ddata['dcoord'], ddata['color_list']):\n",
        "            x = 0.5 * sum(i[1:3])\n",
        "            y = d[1]\n",
        "            if y > annotate_above:\n",
        "                plt.plot(x, y, 'o', c=c)\n",
        "                plt.annotate(\"%.3g\" % y, (x, y), xytext=(0, -5),\n",
        "                             textcoords='offset points',\n",
        "                             va='top', ha='center')\n",
        "        if max_d:\n",
        "            plt.axhline(y=max_d, c='k')\n",
        "    return ddata"
      ],
      "execution_count": 13,
      "outputs": []
    },
    {
      "cell_type": "code",
      "metadata": {
        "id": "NfgmZoE2O9Pl",
        "colab": {
          "base_uri": "https://localhost:8080/",
          "height": 310
        },
        "outputId": "567e711f-c4cd-42d5-830e-a44af7594bdd"
      },
      "source": [
        "fancy_dendrogram(\n",
        "    Z,\n",
        "    truncate_mode='lastp',\n",
        "    p=12,\n",
        "    leaf_rotation=90.,\n",
        "    leaf_font_size=12.,\n",
        "    show_contracted=True,\n",
        "    annotate_above=1,  # useful in small plots so annotations don't overlap\n",
        ")\n",
        "plt.show()"
      ],
      "execution_count": 14,
      "outputs": [
        {
          "output_type": "display_data",
          "data": {
            "image/png": "[encoded data removed]",
            "text/plain": [
              "<Figure size 432x288 with 1 Axes>"
            ]
          },
          "metadata": {
            "tags": [],
            "needs_background": "light"
          }
        }
      ]
    },
    {
      "cell_type": "markdown",
      "metadata": {
        "id": "dW01TT_FOiIS"
      },
      "source": [
        "Vamos ahora a seleccionar en qué punto del proceso nos quedamos:"
      ]
    },
    {
      "cell_type": "code",
      "metadata": {
        "id": "Z_Vxg9S3OlW-",
        "colab": {
          "base_uri": "https://localhost:8080/",
          "height": 310
        },
        "outputId": "fada3bbe-e417-4c00-afab-6d55442ac1e7"
      },
      "source": [
        "d_max = 10\n",
        "\n",
        "\n",
        "fancy_dendrogram(\n",
        "    Z,\n",
        "    truncate_mode='lastp',\n",
        "    p=12,\n",
        "    leaf_rotation=90.,\n",
        "    leaf_font_size=12.,\n",
        "    show_contracted=True,\n",
        "    annotate_above=1,\n",
        "    max_d=d_max,  # plot a horizontal cut-off line\n",
        ")\n",
        "plt.show()"
      ],
      "execution_count": 15,
      "outputs": [
        {
          "output_type": "display_data",
          "data": {
            "image/png": "[encoded data removed]",
            "text/plain": [
              "<Figure size 432x288 with 1 Axes>"
            ]
          },
          "metadata": {
            "tags": [],
            "needs_background": "light"
          }
        }
      ]
    },
    {
      "cell_type": "markdown",
      "metadata": {
        "id": "nWmUkeAjPTy2"
      },
      "source": [
        "Fuente: https://joernhees.de/blog/2015/08/26/scipy-hierarchical-clustering-and-dendrogram-tutorial/"
      ]
    },
    {
      "cell_type": "code",
      "metadata": {
        "id": "L9-eeuAePUk5"
      },
      "source": [
        ""
      ],
      "execution_count": null,
      "outputs": []
    },
    {
      "cell_type": "markdown",
      "metadata": {
        "id": "eqHw7eXePfnq"
      },
      "source": [
        "### Ejemplo 2\n",
        "\n",
        "Vamos a ver un segundo ejemplo, esta vez real.\n",
        "\n",
        "Imaginaos que pertenecéis a la junta directiva de un centro comercial y queréis hacer un estudio de qué perfil de cliente es el más rentable para vosotros.\n",
        "\n",
        "Para ello, vamos a hacer uso de este dataset: https://stackabuse.s3.amazonaws.com/files/hierarchical-clustering-with-python-and-scikit-learn-shopping-data.csv."
      ]
    },
    {
      "cell_type": "code",
      "metadata": {
        "id": "Lr8k6SWrQDOh",
        "colab": {
          "base_uri": "https://localhost:8080/"
        },
        "outputId": "6854825e-d66a-47d4-e5ad-5182e96dc64d"
      },
      "source": [
        "!rm hier*"
      ],
      "execution_count": 16,
      "outputs": [
        {
          "output_type": "stream",
          "text": [
            "rm: cannot remove 'hier*': No such file or directory\n"
          ],
          "name": "stdout"
        }
      ]
    },
    {
      "cell_type": "code",
      "metadata": {
        "id": "uARsYCM7Ppc7",
        "colab": {
          "base_uri": "https://localhost:8080/"
        },
        "outputId": "34a8e844-cdcf-485e-f884-1fc28da21d19"
      },
      "source": [
        "!wget https://stackabuse.s3.amazonaws.com/files/hierarchical-clustering-with-python-and-scikit-learn-shopping-data.csv\n",
        "!ls -la"
      ],
      "execution_count": 17,
      "outputs": [
        {
          "output_type": "stream",
          "text": [
            "--2021-02-23 20:58:25--  https://stackabuse.s3.amazonaws.com/files/hierarchical-clustering-with-python-and-scikit-learn-shopping-data.csv\n",
            "Resolving stackabuse.s3.amazonaws.com (stackabuse.s3.amazonaws.com)... 52.216.133.123\n",
            "Connecting to stackabuse.s3.amazonaws.com (stackabuse.s3.amazonaws.com)|52.216.133.123|:443... connected.\n",
            "HTTP request sent, awaiting response... 200 OK\n",
            "Length: 4286 (4.2K) [text/csv]\n",
            "Saving to: ‘hierarchical-clustering-with-python-and-scikit-learn-shopping-data.csv’\n",
            "\n",
            "hierarchical-cluste 100%[===================>]   4.19K  --.-KB/s    in 0s      \n",
            "\n",
            "2021-02-23 20:58:26 (52.6 MB/s) - ‘hierarchical-clustering-with-python-and-scikit-learn-shopping-data.csv’ saved [4286/4286]\n",
            "\n",
            "total 24\n",
            "drwxr-xr-x 1 root root 4096 Feb 23 20:58 .\n",
            "drwxr-xr-x 1 root root 4096 Feb 23 20:36 ..\n",
            "drwxr-xr-x 1 root root 4096 Feb 22 14:38 .config\n",
            "-rw-r--r-- 1 root root 4286 Jun 24  2019 hierarchical-clustering-with-python-and-scikit-learn-shopping-data.csv\n",
            "drwxr-xr-x 1 root root 4096 Feb 22 14:38 sample_data\n"
          ],
          "name": "stdout"
        }
      ]
    },
    {
      "cell_type": "code",
      "metadata": {
        "id": "K_Zyu_MKQFjO",
        "colab": {
          "base_uri": "https://localhost:8080/",
          "height": 202
        },
        "outputId": "4446fa49-feb8-4dd0-c497-0f2ddb5ff133"
      },
      "source": [
        "import pandas as pd\n",
        "customer_data = pd.read_csv('hierarchical-clustering-with-python-and-scikit-learn-shopping-data.csv')\n",
        "customer_data.head()"
      ],
      "execution_count": 18,
      "outputs": [
        {
          "output_type": "execute_result",
          "data": {
            "text/html": [
              "<div>\n",
              "<style scoped>\n",
              "    .dataframe tbody tr th:only-of-type {\n",
              "        vertical-align: middle;\n",
              "    }\n",
              "\n",
              "    .dataframe tbody tr th {\n",
              "        vertical-align: top;\n",
              "    }\n",
              "\n",
              "    .dataframe thead th {\n",
              "        text-align: right;\n",
              "    }\n",
              "</style>\n",
              "<table border=\"1\" class=\"dataframe\">\n",
              "  <thead>\n",
              "    <tr style=\"text-align: right;\">\n",
              "      <th></th>\n",
              "      <th>CustomerID</th>\n",
              "      <th>Genre</th>\n",
              "      <th>Age</th>\n",
              "      <th>Annual Income (k$)</th>\n",
              "      <th>Spending Score (1-100)</th>\n",
              "    </tr>\n",
              "  </thead>\n",
              "  <tbody>\n",
              "    <tr>\n",
              "      <th>0</th>\n",
              "      <td>1</td>\n",
              "      <td>Male</td>\n",
              "      <td>19</td>\n",
              "      <td>15</td>\n",
              "      <td>39</td>\n",
              "    </tr>\n",
              "    <tr>\n",
              "      <th>1</th>\n",
              "      <td>2</td>\n",
              "      <td>Male</td>\n",
              "      <td>21</td>\n",
              "      <td>15</td>\n",
              "      <td>81</td>\n",
              "    </tr>\n",
              "    <tr>\n",
              "      <th>2</th>\n",
              "      <td>3</td>\n",
              "      <td>Female</td>\n",
              "      <td>20</td>\n",
              "      <td>16</td>\n",
              "      <td>6</td>\n",
              "    </tr>\n",
              "    <tr>\n",
              "      <th>3</th>\n",
              "      <td>4</td>\n",
              "      <td>Female</td>\n",
              "      <td>23</td>\n",
              "      <td>16</td>\n",
              "      <td>77</td>\n",
              "    </tr>\n",
              "    <tr>\n",
              "      <th>4</th>\n",
              "      <td>5</td>\n",
              "      <td>Female</td>\n",
              "      <td>31</td>\n",
              "      <td>17</td>\n",
              "      <td>40</td>\n",
              "    </tr>\n",
              "  </tbody>\n",
              "</table>\n",
              "</div>"
            ],
            "text/plain": [
              "   CustomerID   Genre  Age  Annual Income (k$)  Spending Score (1-100)\n",
              "0           1    Male   19                  15                      39\n",
              "1           2    Male   21                  15                      81\n",
              "2           3  Female   20                  16                       6\n",
              "3           4  Female   23                  16                      77\n",
              "4           5  Female   31                  17                      40"
            ]
          },
          "metadata": {
            "tags": []
          },
          "execution_count": 18
        }
      ]
    },
    {
      "cell_type": "markdown",
      "metadata": {
        "id": "NQNNm4L6QbDC"
      },
      "source": [
        "Para poder visualizarlo, vamos a quedarnos con las 2 columnas, y vamos a realizar un clustering con ellas para ver qué tipos diferentes de clientes tenemos:"
      ]
    },
    {
      "cell_type": "code",
      "metadata": {
        "id": "ldYHiOt5QS63",
        "colab": {
          "base_uri": "https://localhost:8080/"
        },
        "outputId": "d79d9b67-87cb-4437-a498-37ce71557214"
      },
      "source": [
        "data = customer_data.iloc[:, 3:].values\n",
        "print(data[:10])"
      ],
      "execution_count": 19,
      "outputs": [
        {
          "output_type": "stream",
          "text": [
            "[[15 39]\n",
            " [15 81]\n",
            " [16  6]\n",
            " [16 77]\n",
            " [17 40]\n",
            " [17 76]\n",
            " [18  6]\n",
            " [18 94]\n",
            " [19  3]\n",
            " [19 72]]\n"
          ],
          "name": "stdout"
        }
      ]
    },
    {
      "cell_type": "code",
      "metadata": {
        "id": "TqWi84QXQ4WA",
        "colab": {
          "base_uri": "https://localhost:8080/",
          "height": 498
        },
        "outputId": "36918aad-235c-42d6-926e-07368f792e53"
      },
      "source": [
        "# realizamos el clustering\n",
        "\n",
        "plt.figure(figsize=(10, 8))\n",
        "plt.title(\"Dendograma de nuestros clientes\")\n",
        "Z=linkage(data, method='ward')\n",
        "dendrograma = dendrogram(Z)"
      ],
      "execution_count": 22,
      "outputs": [
        {
          "output_type": "display_data",
          "data": {
            "image/png": "[encoded data removed]",
            "text/plain": [
              "<Figure size 720x576 with 1 Axes>"
            ]
          },
          "metadata": {
            "tags": [],
            "needs_background": "light"
          }
        }
      ]
    },
    {
      "cell_type": "markdown",
      "metadata": {
        "id": "ZKPqEQ0hRV9H"
      },
      "source": [
        "Fijaos que parece que encuentra 5 tipos de clientes más o menos diferenciados (cortando en 150, donde existe la mayor distancia vertical para el cluster de más a la derecha). Pero lo único que tenemos en Z es la clasificación de los clientes existentes. ¿Y si quisieramos predecir un nuevo cliente?\n",
        "\n",
        "Necesitamos hacer uso de `AgglomerativeClustering`:"
      ]
    },
    {
      "cell_type": "code",
      "metadata": {
        "id": "-h89ZXdZRgS1"
      },
      "source": [
        "from sklearn.cluster import AgglomerativeClustering\n",
        "\n",
        "cluster = AgglomerativeClustering(n_clusters=5,affinity='euclidean',linkage='ward')\n",
        "clusters = cluster.fit_predict(data)"
      ],
      "execution_count": 23,
      "outputs": []
    },
    {
      "cell_type": "code",
      "metadata": {
        "id": "w22QCV-kRxlv",
        "colab": {
          "base_uri": "https://localhost:8080/",
          "height": 445
        },
        "outputId": "fd88002f-5d94-4c5a-bc85-86c3adaa8e61"
      },
      "source": [
        "plt.figure(figsize=(10, 7))\n",
        "plt.scatter(data[:,0], data[:,1], c=cluster.labels_, cmap='rainbow')"
      ],
      "execution_count": 24,
      "outputs": [
        {
          "output_type": "execute_result",
          "data": {
            "text/plain": [
              "<matplotlib.collections.PathCollection at 0x7fa3183f6810>"
            ]
          },
          "metadata": {
            "tags": []
          },
          "execution_count": 24
        },
        {
          "output_type": "display_data",
          "data": {
            "image/png": "[encoded data removed]",
            "text/plain": [
              "<Figure size 720x504 with 1 Axes>"
            ]
          },
          "metadata": {
            "tags": [],
            "needs_background": "light"
          }
        }
      ]
    },
    {
      "cell_type": "code",
      "metadata": {
        "id": "QPsbbl_TR6cw"
      },
      "source": [
        ""
      ],
      "execution_count": null,
      "outputs": []
    }
  ]
}